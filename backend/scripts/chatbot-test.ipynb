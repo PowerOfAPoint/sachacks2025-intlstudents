{
 "cells": [
  {
   "cell_type": "code",
   "id": "e945f97e64b1507",
   "metadata": {
    "ExecuteTime": {
     "end_time": "2025-03-02T09:27:02.793647Z",
     "start_time": "2025-03-02T09:27:02.750811Z"
    }
   },
   "source": [
    "import os\n",
    "from dotenv import load_dotenv\n",
    "load_dotenv(override=True)"
   ],
   "outputs": [
    {
     "data": {
      "text/plain": [
       "True"
      ]
     },
     "execution_count": 1,
     "metadata": {},
     "output_type": "execute_result"
    }
   ],
   "execution_count": 1
  },
  {
   "cell_type": "markdown",
   "id": "f8b81852-3b81-41ce-a45f-d173aa27ea41",
   "metadata": {},
   "source": [
    "LangGraph agent"
   ]
  },
  {
   "cell_type": "code",
   "execution_count": 2,
   "id": "ac4e8bce-d25b-4851-8657-78050d04a0ee",
   "metadata": {},
   "outputs": [],
   "source": [
    "# Agent tool: Search web for relevant pages, documents, etc. related to the query, and return the URLs of those pages\n",
    "from langchain_community.tools import DuckDuckGoSearchResults\n",
    "from langchain_core.tools import tool\n",
    "from typing import Tuple, Any\n",
    "\n",
    "@tool(response_format='content_and_artifact')\n",
    "def search_urls(query: str, news_backend: bool = False) -> Tuple[str, Any]:\n",
    "    \"\"\"\n",
    "    Retrieve URLs of relevant websites for the given search query, using DuckDuckGo.\n",
    "    Set news_backend variable to True to retrieve URLs from news sites, in cases where the absolute most current information is required.\n",
    "    Otherwise, set news_backend to False to retrieve only site URLs from .edu and .gov websites, for the most official information.\n",
    "    \"\"\"\n",
    "    search = DuckDuckGoSearchResults(output_format='list', num_results=5, keys_to_include=['link'])\n",
    "    results = search.invoke(query, backend='news') if news_backend else search.invoke(f'{query} site:(.gov | .edu)')\n",
    "    results_serialized = '\\n'.join([f'URL: {result['link']}' for result in results])\n",
    "    \n",
    "    return results_serialized, results"
   ]
  },
  {
   "cell_type": "code",
   "execution_count": 3,
   "id": "698e5141-a311-4c19-9e6b-e06a6b7e9280",
   "metadata": {},
   "outputs": [
    {
     "name": "stderr",
     "output_type": "stream",
     "text": [
      "USER_AGENT environment variable not set, consider setting it to identify your requests.\n"
     ]
    }
   ],
   "source": [
    "from langchain_chroma import Chroma\n",
    "from langchain_community.document_loaders import WebBaseLoader\n",
    "from langchain_openai import OpenAIEmbeddings\n",
    "from langchain_text_splitters import RecursiveCharacterTextSplitter\n",
    "from langchain_core.tools import tool\n",
    "\n",
    "@tool(response_format='content_and_artifact')\n",
    "def retrieve_from_urls(query: str, web_paths: list[str]):\n",
    "    \"\"\"\n",
    "    Retrieve content from a provided list of URLs that are related to a query. \n",
    "    \"\"\"\n",
    "    vector_store = Chroma(embedding_function=OpenAIEmbeddings())\n",
    "    \n",
    "    loader = WebBaseLoader(\n",
    "        web_paths=web_paths,\n",
    "    )\n",
    "    docs = loader.load()\n",
    "    text_splitter = RecursiveCharacterTextSplitter(chunk_size=1000, chunk_overlap=200)\n",
    "    all_splits = text_splitter.split_documents(docs)\n",
    "    vector_store.add_documents(documents=all_splits)\n",
    "\n",
    "    retrieved_docs = vector_store.similarity_search(query, k=5)\n",
    "    serialized = '\\n'.join([f'Source: {doc.metadata}\\tContent: {doc.page_content}' for doc in retrieved_docs])\n",
    "    \n",
    "    return serialized, retrieved_docs"
   ]
  },
  {
   "cell_type": "code",
   "execution_count": 4,
   "id": "016f4b2f-dbb3-4654-b1ad-7c1c9b317d70",
   "metadata": {},
   "outputs": [],
   "source": [
    "from langchain_openai import ChatOpenAI\n",
    "from langgraph.checkpoint.memory import MemorySaver\n",
    "from langgraph.prebuilt import create_react_agent\n",
    "from langchain_core.messages import SystemMessage\n",
    "\n",
    "llm = ChatOpenAI(temperature=0.1)\n",
    "memory = MemorySaver()\n",
    "prompt = '''\n",
    "You are a helpful agent who specializes in assisting international college students living in the United States.\n",
    "Please use the provided search and retrieval tools to answer the prompt as accurately as possible. \n",
    "Append keywords such as \"for international students\" to the search query to get results tailored to international students studying abroad.\n",
    "Use a friendly tone when answering questions, as if you were a college guidance counselor.\n",
    "'''\n",
    "system_prompt = SystemMessage(prompt)\n",
    "\n",
    "agent = create_react_agent(model=llm, prompt=system_prompt, tools=[search_urls, retrieve_from_urls], checkpointer=memory)"
   ]
  },
  {
   "cell_type": "code",
   "execution_count": 16,
   "id": "24c29665-410c-4ec9-bcef-92a5ffd3489b",
   "metadata": {
    "scrolled": true
   },
   "outputs": [],
   "source": [
    "from langchain_core.messages import HumanMessage\n",
    "\n",
    "messages = [HumanMessage(content=\"How can I make sure I'm eligible for an internship as a student from China?\")]\n",
    "config = {'configurable': {'thread_id': 'k'}}"
   ]
  },
  {
   "cell_type": "code",
   "execution_count": 76,
   "id": "f513bdc3-497e-47cc-93b1-6c5dbfbeec30",
   "metadata": {
    "collapsed": true,
    "jupyter": {
     "outputs_hidden": true
    },
    "scrolled": true
   },
   "outputs": [
    {
     "name": "stdout",
     "output_type": "stream",
     "text": [
      "content='It seems that the retrieved information provides guidance on finding internships abroad and leveraging mentorship programs and networking opportunities. Here are some key points to consider as a third-year student from China starting an internship:\\n\\n1. **Mentorship Programs**: Look for mentorship programs at your university that can provide guidance on interning abroad. A mentor aligned with your career interests can offer valuable insights and connections to enhance your internship opportunities.\\n\\n2. **Networking Tips**: Connect with peers, upperclassmen, and alumni who have interned in your desired countries or cities. Alumni associations can be particularly beneficial as they understand the challenges of entering the job market and can provide valuable references.\\n\\n3. **External Internship Placement Programs**: Explore external internship placement programs, ensuring to choose reputable organizations. While some programs may offer visa assistance, be mindful of potential costs. Utilize online job boards to find free internships abroad.\\n\\nBy following these suggestions, you can make the most of your internship experience as an international student in the United States.' additional_kwargs={'refusal': None} response_metadata={'token_usage': {'completion_tokens': 206, 'prompt_tokens': 2748, 'total_tokens': 2954, 'completion_tokens_details': {'accepted_prediction_tokens': 0, 'audio_tokens': 0, 'reasoning_tokens': 0, 'rejected_prediction_tokens': 0}, 'prompt_tokens_details': {'audio_tokens': 0, 'cached_tokens': 0}}, 'model_name': 'gpt-3.5-turbo-0125', 'system_fingerprint': None, 'finish_reason': 'stop', 'logprobs': None} id='run-b5bd2b1c-9fa3-4efa-a9d8-0be3897d4ba7-0' usage_metadata={'input_tokens': 2748, 'output_tokens': 206, 'total_tokens': 2954, 'input_token_details': {'audio': 0, 'cache_read': 0}, 'output_token_details': {'audio': 0, 'reasoning': 0}}\n"
     ]
    }
   ],
   "source": [
    "response = agent.invoke({'messages': messages}, config)\n",
    "print(response)"
   ]
  },
  {
   "cell_type": "code",
   "execution_count": null,
   "id": "ba59ff09-3c56-41fa-9932-e34e5560cb5a",
   "metadata": {},
   "outputs": [],
   "source": [
    "# Streaming\n",
    "for step in agent.stream(\n",
    "    {\"messages\": messages}, config,\n",
    "    stream_mode=\"values\"\n",
    "):\n",
    "    step[\"messages\"][-1].pretty_print()"
   ]
  },
  {
   "cell_type": "code",
   "execution_count": null,
   "id": "abf7006a-af3c-4fc1-9b2c-a34c2f088f9f",
   "metadata": {},
   "outputs": [],
   "source": [
    "from IPython.display import display, Image\n",
    "display(Image(agent.get_graph().draw_mermaid_png()))"
   ]
  },
  {
   "cell_type": "markdown",
   "id": "bcc720fb-bca2-4e8f-a1a0-618c0a7ee15e",
   "metadata": {},
   "source": [
    "Adding context to return sources"
   ]
  },
  {
   "cell_type": "code",
   "execution_count": 5,
   "id": "a7a48e02-b096-4c59-878f-8462a8837838",
   "metadata": {},
   "outputs": [],
   "source": [
    "from langgraph.graph import MessagesState\n",
    "from langchain_core.documents import Document\n",
    "from typing import List\n",
    "\n",
    "class MessagesStateWithContext(MessagesState):\n",
    "    context: List[Document]\n",
    "\n",
    "@tool(response_format='content_and_artifact')\n",
    "def search_and_retrieve_from_web(query: str, news_backend: bool = False) -> Tuple[str, Any]:\n",
    "    \"\"\"\n",
    "    Retrieve most relevant content from websites given a query, using DuckDuckGo.\n",
    "    Set news_backend variable to True to retrieve URLs from news sites, in cases where the absolute most current information is required.\n",
    "    Otherwise, set news_backend to False to retrieve only site URLs from .edu and .gov websites, for the most official information.\n",
    "    \"\"\"\n",
    "    search = DuckDuckGoSearchResults(output_format='list', num_results=5, keys_to_include=['link'])\n",
    "    results = search.invoke(query, backend='news') if news_backend else search.invoke(f'{query} site:(.gov | .edu)')\n",
    "    \n",
    "    vector_store = Chroma(embedding_function=OpenAIEmbeddings())\n",
    "    \n",
    "    loader = WebBaseLoader(\n",
    "        web_paths=[result['link'] for result in results],\n",
    "    )\n",
    "    docs = loader.load()\n",
    "    text_splitter = RecursiveCharacterTextSplitter(chunk_size=1000, chunk_overlap=200)\n",
    "    all_splits = text_splitter.split_documents(docs)\n",
    "    vector_store.add_documents(documents=all_splits)\n",
    "\n",
    "    retrieved_docs = vector_store.similarity_search(query, k=5)\n",
    "    serialized = '\\n'.join([f'Source: {doc.metadata}\\tContent: {doc.page_content}' for doc in retrieved_docs])\n",
    "    \n",
    "    return serialized, retrieved_docs"
   ]
  },
  {
   "cell_type": "code",
   "execution_count": 23,
   "id": "8d7ac6a7-f833-4880-9d4c-c07c5b5cf155",
   "metadata": {},
   "outputs": [],
   "source": [
    "from langgraph.prebuilt import ToolNode\n",
    "\n",
    "def tool_or_respond(state: MessagesStateWithContext):\n",
    "    \"\"\"\n",
    "    Generate tool calls to search and retrieve from webpages, or respond to the prompt.\n",
    "    \"\"\"\n",
    "    llm_with_tools = llm.bind_tools([search_and_retrieve_from_web])\n",
    "    response = llm_with_tools.invoke(state['messages'])\n",
    "    return {'messages': [response]}\n",
    "\n",
    "tools = ToolNode([search_and_retrieve_from_web])\n",
    "\n",
    "def generate(state: MessagesStateWithContext):\n",
    "    \"\"\"\n",
    "    Generate an answer given retrieved content and prior message history.\n",
    "    \"\"\"\n",
    "    # Get tool messages from previous node\n",
    "    recent_tool_messages = []\n",
    "    for message in reversed(state['messages']):\n",
    "        if message.type == 'tool':\n",
    "            recent_tool_messages.append(message)\n",
    "        else:\n",
    "            break\n",
    "    tool_messages = recent_tool_messages[::-1]\n",
    "\n",
    "    # Create message history + new system prompt specifically for RAG\n",
    "    docs_content = '\\n\\n'.join([doc.content for doc in tool_messages])\n",
    "    system_prompt = SystemMessage(f'''\n",
    "    You are an assistant for question-answering tasks. \n",
    "    Use the following pieces of retrieved context to answer the question(s) as thoroughly and accurately as possible. \n",
    "    If you don't know the answer, just say that you don't know.\n",
    "    Use a friendly tone when answering questions, as if you were a college guidance counselor.\n",
    "    \n",
    "    Context: {docs_content}\n",
    "    ''')  # Prompt adapted from rlm/rag-prompt\n",
    "\n",
    "    conversation_messages = [\n",
    "        message for message in state['messages'] if \n",
    "            message.type in ('human', 'system')\n",
    "            or \n",
    "            (message.type == 'ai' and not message.tool_calls)\n",
    "    ]\n",
    "    \n",
    "    all_messages = [system_prompt] + conversation_messages\n",
    "\n",
    "    # Get response and source documents\n",
    "    response = llm.invoke(all_messages)\n",
    "    context = []\n",
    "    for tool_message in tool_messages:\n",
    "        context += [tool_message.artifact]\n",
    "\n",
    "    return {'messages': [response], 'context': context}"
   ]
  },
  {
   "cell_type": "code",
   "execution_count": 24,
   "id": "c9e7b5e6-eca7-41c0-ae6a-4d5aa854ba73",
   "metadata": {},
   "outputs": [],
   "source": [
    "from langgraph.graph import StateGraph, END\n",
    "from langgraph.prebuilt import tools_condition\n",
    "\n",
    "graph_builder = StateGraph(MessagesStateWithContext)\n",
    "\n",
    "graph_builder.add_node(tool_or_respond)\n",
    "graph_builder.add_node(tools)\n",
    "graph_builder.add_node(generate)\n",
    "\n",
    "graph_builder.set_entry_point('tool_or_respond')\n",
    "graph_builder.add_conditional_edges(\n",
    "    'tool_or_respond',\n",
    "    tools_condition,\n",
    "    {END: END, 'tools': 'tools'},\n",
    ")\n",
    "graph_builder.add_edge('tools', 'generate')\n",
    "graph_builder.add_edge('generate', END)\n",
    "\n",
    "graph = graph_builder.compile()"
   ]
  },
  {
   "cell_type": "code",
   "execution_count": 25,
   "id": "c94829a1-69b1-409c-9389-ff29a7615c2d",
   "metadata": {
    "collapsed": true,
    "jupyter": {
     "outputs_hidden": true
    }
   },
   "outputs": [
    {
     "data": {
      "image/png": "[encoded data removed]",
      "text/plain": [
       "<IPython.core.display.Image object>"
      ]
     },
     "metadata": {},
     "output_type": "display_data"
    }
   ],
   "source": [
    "from IPython.display import display, Image\n",
    "display(Image(graph.get_graph().draw_mermaid_png()))"
   ]
  },
  {
   "cell_type": "code",
   "execution_count": 37,
   "id": "41a79461-0780-4478-8543-5ce3b941f0e5",
   "metadata": {},
   "outputs": [],
   "source": [
    "user_prompt = \"How can I make sure I'm eligible for an internship as a student from China?\"\n",
    "messages = [\n",
    "    SystemMessage('''\n",
    "    You are a helpful tool-calling agent who specializes in assisting international college students living in the United States.\n",
    "    Please use the provided search and retrieval tools to answer the prompt as accurately as possible.\n",
    "    Append keywords such as \"for international students\" to the search query to get results tailored to international students studying abroad.\n",
    "    Unless specified in the prompt, assume that the user needs official information rather than the most current information.\n",
    "    '''), \n",
    "    HumanMessage(content=user_prompt)\n",
    "]\n",
    "config = {'configurable': {'thread_id': 'vana'}}"
   ]
  },
  {
   "cell_type": "code",
   "execution_count": 43,
   "id": "fe9d6ab0-e18e-4b91-ab6e-01810db1b2b3",
   "metadata": {},
   "outputs": [
    {
     "name": "stdout",
     "output_type": "stream",
     "text": [
      "test\n",
      "test\n",
      "test\n",
      "test\n",
      "test\n",
      "test\n",
      "test\n",
      "test\n",
      "test\n",
      "test\n"
     ]
    }
   ],
   "source": [
    "for i in range(10):\n",
    "    print('test')\n",
    "    pass"
   ]
  },
  {
   "cell_type": "code",
   "execution_count": 38,
   "id": "88f6c9b7-e888-44d7-9e46-a816e87b33d7",
   "metadata": {
    "scrolled": true
   },
   "outputs": [],
   "source": [
    "steps = graph.stream(\n",
    "    {\"messages\": messages}, config,\n",
    "    stream_mode=\"values\"\n",
    ")\n",
    "for step in steps:\n",
    "    print(step[\"messages\"][-1])"
   ]
  },
  {
   "cell_type": "code",
   "execution_count": 51,
   "id": "64efcca3-39b1-4eff-ba45-ec267a800317",
   "metadata": {},
   "outputs": [
    {
     "data": {
      "text/plain": [
       "{'description': 'Stanford Global Studies Internship Program supports CEAS and EALC graduate students for self-arranged summer internships in the U.S. or abroad. Applications\\xa0may focus on any aspect of East Asian Studies - arts, business, people & society, history, culture, technology, and politics. The internship can be related to\\xa0public service or academic/policy research.',\n",
       " 'language': 'en',\n",
       " 'source': 'https://sgs.stanford.edu/internships/2025-internship-grants-ceas-and-ealc-graduate-students',\n",
       " 'title': '2025 Internship Grants for CEAS and EALC Graduate Students | Global Studies'}"
      ]
     },
     "execution_count": 51,
     "metadata": {},
     "output_type": "execute_result"
    }
   ],
   "source": [
    "step['context'][0][0].metadata"
   ]
  },
  {
   "cell_type": "code",
   "execution_count": null,
   "id": "930a86c4-a6d7-4bd6-8edd-6a15d8327174",
   "metadata": {},
   "outputs": [],
   "source": []
  }
 ],
 "metadata": {
  "kernelspec": {
   "display_name": "Python 3 (ipykernel)",
   "language": "python",
   "name": "python3"
  },
  "language_info": {
   "codemirror_mode": {
    "name": "ipython",
    "version": 3
   },
   "file_extension": ".py",
   "mimetype": "text/x-python",
   "name": "python",
   "nbconvert_exporter": "python",
   "pygments_lexer": "ipython3",
   "version": "3.13.0"
  }
 },
 "nbformat": 4,
 "nbformat_minor": 5
}
