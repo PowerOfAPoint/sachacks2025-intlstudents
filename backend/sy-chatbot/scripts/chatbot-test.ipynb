{
 "cells": [
  {
   "cell_type": "code",
   "id": "e945f97e64b1507",
   "metadata": {
    "ExecuteTime": {
     "end_time": "2025-03-02T01:01:08.981733Z",
     "start_time": "2025-03-02T01:01:08.974295Z"
    }
   },
   "source": [
    "import os\n",
    "from dotenv import load_dotenv\n",
    "load_dotenv(override=True)"
   ],
   "outputs": [
    {
     "data": {
      "text/plain": [
       "True"
      ]
     },
     "execution_count": 1,
     "metadata": {},
     "output_type": "execute_result"
    }
   ],
   "execution_count": 1
  },
  {
   "cell_type": "code",
   "execution_count": 11,
   "id": "aebf7c4f-7dce-4a4f-948c-6782c0da4d9a",
   "metadata": {},
   "outputs": [
    {
     "data": {
      "text/plain": [
       "<langchain_chroma.vectorstores.Chroma at 0x123acf610>"
      ]
     },
     "execution_count": 11,
     "metadata": {},
     "output_type": "execute_result"
    }
   ],
   "source": [
    "from langchain_chroma import Chroma\n",
    "from langchain_community.document_loaders import WebBaseLoader\n",
    "from langchain_openai import ChatOpenAI, OpenAIEmbeddings\n",
    "from langchain_text_splitters import RecursiveCharacterTextSplitter\n",
    "\n",
    "embeddings = OpenAIEmbeddings()\n",
    "vector_store = Chroma(embedding_function=embeddings)\n",
    "llm = ChatOpenAI(temperature=0)\n",
    "\n",
    "loader = WebBaseLoader(\n",
    "    web_paths=['https://www.uscis.gov/working-in-the-united-states/students-and-exchange-visitors/optional-practical-training-opt-for-f-1-students'],\n",
    ")\n",
    "docs = loader.load()\n",
    "text_splitter = RecursiveCharacterTextSplitter(chunk_size=1000, chunk_overlap=200)\n",
    "all_splits = text_splitter.split_documents(docs)\n",
    "vector_store.add_documents(documents=all_splits)\n",
    "\n",
    "vector_store"
   ]
  },
  {
   "cell_type": "code",
   "execution_count": 40,
   "id": "ac4e8bce-d25b-4851-8657-78050d04a0ee",
   "metadata": {},
   "outputs": [],
   "source": [
    "# Agent tool: Search web for relevant pages, documents, etc. related to the query, and return the URLs of those pages\n",
    "from langchain_community.tools import DuckDuckGoSearchResults\n",
    "from langchain_core.tools import tool\n",
    "from typing import Tuple, Any\n",
    "\n",
    "@tool(response_format='content_and_artifact')\n",
    "def search_urls_gov(query: str) -> Tuple[str, Any]:\n",
    "    \"\"\"\n",
    "    Retrieve URLs of relevant .gov and .edu websites for the given search query, using DuckDuckGo.\n",
    "    \"\"\"\n",
    "    search = DuckDuckGoSearchResults(output_format='list', num_results=10, keys_to_include=['link', 'title'])\n",
    "    results = search.invoke(f'{query} site:(.gov | .edu)')\n",
    "    results_serialized = '\\n'.join([f'URL: {result['link']}\\tTitle: {result['snippet']}' for result in results])\n",
    "    return results_serialized, results"
   ]
  },
  {
   "cell_type": "code",
   "execution_count": 34,
   "id": "84de6e40-b89a-4c84-b5a8-edf6bdc38e24",
   "metadata": {},
   "outputs": [],
   "source": [
    "from langchain import hub\n",
    "from langchain_core.documents import Document\n",
    "from typing_extensions import List, TypedDict\n",
    "\n",
    "# Define state for application\n",
    "class State(TypedDict):\n",
    "    question: str\n",
    "    context: List[Document]\n",
    "    answer: str\n",
    "\n",
    "\n",
    "# Define application steps\n",
    "def retrieve(state: State):\n",
    "    retrieved_docs = vector_store.similarity_search(state[\"question\"])\n",
    "    return {\"context\": retrieved_docs}\n",
    "\n",
    "\n",
    "def generate(state: State):\n",
    "    prompt = hub.pull(\"rlm/rag-prompt\")\n",
    "    docs_content = \"\\n\\n\".join(doc.page_content for doc in state[\"context\"])\n",
    "    messages = prompt.invoke({\"question\": state[\"question\"], \"context\": docs_content})\n",
    "    response = llm.invoke(messages)\n",
    "    return {\"answer\": response.content}"
   ]
  },
  {
   "cell_type": "code",
   "execution_count": 35,
   "id": "4d371427-8a6f-4117-86f6-0fe444ff1bd9",
   "metadata": {},
   "outputs": [],
   "source": [
    "from langgraph.graph import START, StateGraph\n",
    "\n",
    "graph_builder = StateGraph(State).add_sequence([retrieve, generate])\n",
    "graph_builder.add_edge(START, \"retrieve\")\n",
    "graph = graph_builder.compile()"
   ]
  },
  {
   "cell_type": "code",
   "execution_count": 36,
   "id": "10f7e752-bae5-4cba-83b5-7a814e6e09d6",
   "metadata": {},
   "outputs": [
    {
     "name": "stderr",
     "output_type": "stream",
     "text": [
      "/Users/stevenyuan/Documents-offline/sachacks2025-intlstudents/.venv/lib/python3.13/site-packages/langsmith/client.py:253: LangSmithMissingAPIKeyWarning: API key must be provided when using hosted LangSmith API\n",
      "  warnings.warn(\n"
     ]
    },
    {
     "data": {
      "text/plain": [
       "\"Optional Practical Training (OPT) is temporary employment related to an F-1 student's major area of study. Eligible students can apply for up to 12 months of OPT before or after completing their academic studies. All periods of pre-completion OPT will be deducted from the available post-completion OPT.\""
      ]
     },
     "execution_count": 36,
     "metadata": {},
     "output_type": "execute_result"
    }
   ],
   "source": [
    "response = graph.invoke({'question': 'What is OPT?'})\n",
    "response['answer']"
   ]
  },
  {
   "cell_type": "code",
   "execution_count": null,
   "id": "2bde23bd-8316-4cde-ba6c-5220be8beb4d",
   "metadata": {},
   "outputs": [],
   "source": [
    "response = "
   ]
  },
  {
   "cell_type": "markdown",
   "id": "f8b81852-3b81-41ce-a45f-d173aa27ea41",
   "metadata": {},
   "source": [
    "LangGraph agent"
   ]
  },
  {
   "cell_type": "code",
   "execution_count": 39,
   "id": "8fda14c5-adb9-4ee4-b5d6-71e18303d7b7",
   "metadata": {},
   "outputs": [],
   "source": [
    "from langgraph.graph import StateGraph, MessagesState\n",
    "\n",
    "class MessagesStateRAG(MessagesState):\n",
    "    \n",
    "\n",
    "graph_builder = StateGraph(MessagesState)"
   ]
  },
  {
   "cell_type": "code",
   "execution_count": null,
   "id": "016f4b2f-dbb3-4654-b1ad-7c1c9b317d70",
   "metadata": {},
   "outputs": [],
   "source": []
  }
 ],
 "metadata": {
  "kernelspec": {
   "display_name": "Python 3 (ipykernel)",
   "language": "python",
   "name": "python3"
  },
  "language_info": {
   "codemirror_mode": {
    "name": "ipython",
    "version": 3
   },
   "file_extension": ".py",
   "mimetype": "text/x-python",
   "name": "python",
   "nbconvert_exporter": "python",
   "pygments_lexer": "ipython3",
   "version": "3.13.0"
  }
 },
 "nbformat": 4,
 "nbformat_minor": 5
}
