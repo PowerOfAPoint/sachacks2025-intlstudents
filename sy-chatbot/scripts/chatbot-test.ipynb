{
 "cells": [
  {
   "cell_type": "code",
   "id": "e945f97e64b1507",
   "metadata": {
    "ExecuteTime": {
     "end_time": "2025-03-01T22:39:30.065319Z",
     "start_time": "2025-03-01T22:39:29.987280Z"
    }
   },
   "source": [
    "import os\n",
    "from dotenv import load_dotenv\n",
    "load_dotenv(override=True)\n",
    "\n",
    "os.environ['OPEN_API_KEY']"
   ],
   "outputs": [
    {
     "ename": "KeyError",
     "evalue": "'OPEN_API_KEY'",
     "output_type": "error",
     "traceback": [
      "\u001B[31m---------------------------------------------------------------------------\u001B[39m",
      "\u001B[31mKeyError\u001B[39m                                  Traceback (most recent call last)",
      "\u001B[36mCell\u001B[39m\u001B[36m \u001B[39m\u001B[32mIn[1]\u001B[39m\u001B[32m, line 5\u001B[39m\n\u001B[32m      2\u001B[39m \u001B[38;5;28;01mfrom\u001B[39;00m\u001B[38;5;250m \u001B[39m\u001B[34;01mdotenv\u001B[39;00m\u001B[38;5;250m \u001B[39m\u001B[38;5;28;01mimport\u001B[39;00m load_dotenv\n\u001B[32m      3\u001B[39m load_dotenv(override=\u001B[38;5;28;01mTrue\u001B[39;00m)\n\u001B[32m----> \u001B[39m\u001B[32m5\u001B[39m \u001B[43mos\u001B[49m\u001B[43m.\u001B[49m\u001B[43menviron\u001B[49m\u001B[43m[\u001B[49m\u001B[33;43m'\u001B[39;49m\u001B[33;43mOPEN_API_KEY\u001B[39;49m\u001B[33;43m'\u001B[39;49m\u001B[43m]\u001B[49m\n",
      "\u001B[36mFile \u001B[39m\u001B[32m<frozen os>:716\u001B[39m, in \u001B[36m__getitem__\u001B[39m\u001B[34m(self, key)\u001B[39m\n",
      "\u001B[31mKeyError\u001B[39m: 'OPEN_API_KEY'"
     ]
    }
   ],
   "execution_count": 1
  },
  {
   "cell_type": "code",
   "execution_count": 17,
   "id": "aebf7c4f-7dce-4a4f-948c-6782c0da4d9a",
   "metadata": {},
   "outputs": [
    {
     "data": {
      "text/plain": [
       "<langchain_chroma.vectorstores.Chroma at 0x13b4b4180>"
      ]
     },
     "execution_count": 17,
     "metadata": {},
     "output_type": "execute_result"
    }
   ],
   "source": [
    "from langchain_chroma import Chroma\n",
    "from langchain_community.document_loaders import WebBaseLoader\n",
    "from langchain_openai import ChatOpenAI, OpenAIEmbeddings\n",
    "from langchain_text_splitters import RecursiveCharacterTextSplitter\n",
    "\n",
    "embeddings = OpenAIEmbeddings(api_key=os.environ['OPEN_API_KEY'])\n",
    "vector_store = Chroma(embedding_function=embeddings)\n",
    "llm = ChatOpenAI(temperature=0, api_key=os.environ['OPEN_API_KEY'])\n",
    "\n",
    "loader = WebBaseLoader(\n",
    "    web_paths=['https://www.uscis.gov/working-in-the-united-states/students-and-exchange-visitors/optional-practical-training-opt-for-f-1-students'],\n",
    ")\n",
    "docs = loader.load()\n",
    "text_splitter = RecursiveCharacterTextSplitter(chunk_size=1000, chunk_overlap=200)\n",
    "all_splits = text_splitter.split_documents(docs)\n",
    "vector_store.add_documents(documents=all_splits)\n",
    "\n",
    "vector_store"
   ]
  },
  {
   "cell_type": "code",
   "execution_count": 18,
   "id": "84de6e40-b89a-4c84-b5a8-edf6bdc38e24",
   "metadata": {},
   "outputs": [],
   "source": [
    "from langchain import hub\n",
    "from langchain_core.documents import Document\n",
    "from typing_extensions import List, TypedDict\n",
    "\n",
    "# Define state for application\n",
    "class State(TypedDict):\n",
    "    question: str\n",
    "    context: List[Document]\n",
    "    answer: str\n",
    "\n",
    "\n",
    "# Define application steps\n",
    "def retrieve(state: State):\n",
    "    retrieved_docs = vector_store.similarity_search(state[\"question\"])\n",
    "    return {\"context\": retrieved_docs}\n",
    "\n",
    "\n",
    "def generate(state: State):\n",
    "    prompt = hub.pull(\"rlm/rag-prompt\")\n",
    "    docs_content = \"\\n\\n\".join(doc.page_content for doc in state[\"context\"])\n",
    "    messages = prompt.invoke({\"question\": state[\"question\"], \"context\": docs_content})\n",
    "    response = llm.invoke(messages)\n",
    "    return {\"answer\": response.content}"
   ]
  },
  {
   "cell_type": "code",
   "execution_count": 19,
   "id": "4d371427-8a6f-4117-86f6-0fe444ff1bd9",
   "metadata": {},
   "outputs": [],
   "source": [
    "from langgraph.graph import START, StateGraph\n",
    "\n",
    "graph_builder = StateGraph(State).add_sequence([retrieve, generate])\n",
    "graph_builder.add_edge(START, \"retrieve\")\n",
    "graph = graph_builder.compile()"
   ]
  },
  {
   "cell_type": "code",
   "execution_count": 20,
   "id": "10f7e752-bae5-4cba-83b5-7a814e6e09d6",
   "metadata": {},
   "outputs": [
    {
     "data": {
      "text/plain": [
       "'As an international student in a STEM degree, you can apply for a 24-month OPT extension if you meet specific criteria. You must request your DSO to recommend OPT and file Form I-765 with USCIS. The application timing varies based on whether you are applying for pre-completion or post-completion OPT.'"
      ]
     },
     "execution_count": 20,
     "metadata": {},
     "output_type": "execute_result"
    }
   ],
   "source": [
    "response = graph.invoke({'question': 'I am an international student in a STEM degree, and I want to apply for OPT. What should I know?'})\n",
    "response['answer']"
   ]
  },
  {
   "cell_type": "markdown",
   "id": "f8b81852-3b81-41ce-a45f-d173aa27ea41",
   "metadata": {},
   "source": [
    "LangGraph agent"
   ]
  },
  {
   "cell_type": "code",
   "execution_count": null,
   "id": "8fda14c5-adb9-4ee4-b5d6-71e18303d7b7",
   "metadata": {},
   "outputs": [],
   "source": []
  }
 ],
 "metadata": {
  "kernelspec": {
   "display_name": "Python 3 (ipykernel)",
   "language": "python",
   "name": "python3"
  },
  "language_info": {
   "codemirror_mode": {
    "name": "ipython",
    "version": 3
   },
   "file_extension": ".py",
   "mimetype": "text/x-python",
   "name": "python",
   "nbconvert_exporter": "python",
   "pygments_lexer": "ipython3",
   "version": "3.13.0"
  }
 },
 "nbformat": 4,
 "nbformat_minor": 5
}
